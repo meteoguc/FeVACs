{
 "cells": [
  {
   "cell_type": "markdown",
   "metadata": {},
   "source": [
    "<div style=\"text-align: right\"> <b>Release Date:</b> 20.11.2023 </div>\n",
    "\n",
    "<div style=\"text-align: right\"> v.2.0.0 </div>\n",
    "\n",
    "---"
   ]
  },
  {
   "cell_type": "markdown",
   "metadata": {},
   "source": [
    "<h3><center> FeVAcS: FEniCS Visualizing Acoustic Scattering </center></h3>\n",
    "<h3><center> Notebook: FEM </center></h3>\n",
    "<h4><center>Mete Öğüç<sup>1</sup>, Ali Fethi Okyar<sup>2</sup>, Tahsin Khajah<sup>3</sup></center></h4>\n",
    "<t4><center> <sup>1</sup>İstanbul Atlas University, Biomedical Eng. Dept. &amp; Metzen Akustik</center></t4>\n",
    "<t4><center> <sup>2</sup>Yeditepe University, Mech. Eng. Dept. </center></t4>\n",
    "<t4><center> <sup>3</sup>The University of Texas at Tyler, Mech. Eng. Dept. </center></t4>\n",
    "\n",
    "---"
   ]
  },
  {
   "cell_type": "markdown",
   "metadata": {},
   "source": [
    "This notebook contains the necessary functions to generate mesh and solve the finite element model."
   ]
  },
  {
   "cell_type": "markdown",
   "metadata": {},
   "source": [
    "#### Mesh the geometry"
   ]
  },
  {
   "cell_type": "code",
   "execution_count": null,
   "metadata": {},
   "outputs": [],
   "source": [
    "def Mesh_Cylinder(xmin, xmax, ymin, ymax, xcyl_1, ycyl_1, r_1, n_lambda, k):\n",
    "\n",
    "    # Create the solution domain\n",
    "    domain_rectangle = Rectangle(Point(xmin, ymin), Point(xmax, ymax))\n",
    "    \n",
    "    n_x = int(n_lambda*(xmax-xcyl_1)*k/(2*np.pi))\n",
    "    n_tangential = int(n_x*2*np.pi)\n",
    "    \n",
    "    # Single cylinder shaped obstacle\n",
    "    cylinder_1  = Circle(Point(xcyl_1, ycyl_1), r_1, n_tangential)\n",
    "    \n",
    "    domain = domain_rectangle - cylinder_1\n",
    "    mesh = generate_mesh(domain, int(n_x*2))\n",
    "    \n",
    "    return mesh"
   ]
  },
  {
   "cell_type": "code",
   "execution_count": null,
   "metadata": {},
   "outputs": [],
   "source": [
    "mesh = Mesh_Cylinder(xmin, xmax, ymin, ymax, xcyl_1, ycyl_1, r_1, n_lambda, k)"
   ]
  },
  {
   "cell_type": "markdown",
   "metadata": {},
   "source": [
    "#### Extract DOF coordinates of the mesh"
   ]
  },
  {
   "cell_type": "code",
   "execution_count": null,
   "metadata": {},
   "outputs": [],
   "source": [
    "F = FunctionSpace(mesh, 'P', p)\n",
    "\n",
    "n = F.dim()\n",
    "d = mesh.geometry().dim()\n",
    "\n",
    "F_dof_coordinates = F.tabulate_dof_coordinates()\n",
    "F_dof_coordinates.resize((n, d))\n",
    "F_dof_x = F_dof_coordinates[:, 0]\n",
    "F_dof_y = F_dof_coordinates[:, 1]"
   ]
  },
  {
   "cell_type": "markdown",
   "metadata": {},
   "source": [
    "#### Generate plane wave"
   ]
  },
  {
   "cell_type": "code",
   "execution_count": null,
   "metadata": {},
   "outputs": [],
   "source": [
    "def Plane_Wave(k, x, dw):\n",
    "    \n",
    "    u_inc = np.cos(k*(x-dw)) + 1j*np.sin(k*(x-dw))\n",
    "    \n",
    "    return u_inc"
   ]
  },
  {
   "cell_type": "markdown",
   "metadata": {},
   "source": [
    "#### Finite Element Model"
   ]
  },
  {
   "cell_type": "code",
   "execution_count": null,
   "metadata": {},
   "outputs": [],
   "source": [
    "def FEM(mesh, k, xmin, xmax, ymin, ymax, xcyl_1, ycyl_1, r_1, p, q, tol):\n",
    "             \n",
    "    # Define boundary subdomains\n",
    "    \n",
    "    boundary_markers = MeshFunction(\"size_t\",mesh, mesh.topology().dim()-1)\n",
    "    \n",
    "    class BoundaryL(SubDomain):\n",
    "        def inside(self, x, on_boundary):\n",
    "            return on_boundary and near(x[0], xmin, tol)\n",
    "    \n",
    "    class BoundaryR(SubDomain):\n",
    "        def inside(self, x, on_boundary):\n",
    "            return on_boundary and near(x[0], xmax, tol)\n",
    "    \n",
    "    class BoundaryS(SubDomain):\n",
    "        def inside(self, x, on_boundary):\n",
    "            return on_boundary and sqrt(pow(xcyl_1 - x[0],2) + pow(ycyl_1 - x[1],2)) <= r_1 + tol\n",
    "\n",
    "    # Sub domain for Periodic boundary condition\n",
    "    class PeriodicBoundary(SubDomain):\n",
    "        def inside(self, x, on_boundary):\n",
    "            return bool( ymin + tol > x[1] > ymin - tol and on_boundary)\n",
    "        def map(self, x, y):\n",
    "            y[0] = x[0]\n",
    "            y[1] = x[1] - (ymax-ymin)\n",
    "    \n",
    "    bc_L = BoundaryL()\n",
    "    bc_R = BoundaryR()\n",
    "    bc_S = BoundaryS()\n",
    "\n",
    "    boundary_markers.set_all(0)\n",
    "    bc_L.mark(boundary_markers, 1)\n",
    "    bc_R.mark(boundary_markers, 2)\n",
    "    bc_S.mark(boundary_markers, 3)\n",
    "    \n",
    "    Er = FiniteElement('P', triangle, p)\n",
    "    Ei = FiniteElement('P', triangle, p)\n",
    "    Ec = Er * Ei\n",
    "    V = FunctionSpace(mesh, Ec, constrained_domain=PeriodicBoundary())\n",
    "    print(\"DOF of Functions-space V:\", round(V.dim()/2))\n",
    "    \n",
    "    C_1 = Expression('k*cos(atan2(ycyl_1 + x[1],x[0] - xcyl_1))*cos(k*(x[0] - xcyl_1))',degree=q, k=k, xcyl_1 = xcyl_1, ycyl_1 = ycyl_1)\n",
    "    C_2 = Expression('k*cos(atan2(ycyl_1 + x[1],x[0] - xcyl_1))*sin(k*(x[0] - xcyl_1))',degree=q, k=k, xcyl_1 = xcyl_1, ycyl_1 = ycyl_1)\n",
    "    \n",
    "    # Redefine boundary integration measure\n",
    "    ds = Measure('ds', domain=mesh, subdomain_data=boundary_markers)\n",
    "    \n",
    "    # define variational problem\n",
    "    (u_r, u_i) = TrialFunction(V)\n",
    "    (v_r, v_i) = TestFunction(V)\n",
    "\n",
    "    a_r = \\\n",
    "    + inner(nabla_grad(u_r), nabla_grad(v_r))*dx\\\n",
    "    - inner(nabla_grad(u_i), nabla_grad(v_i))*dx\\\n",
    "    - pow(k,2)*( inner(u_r,v_r) - inner(u_i,v_i))*dx\\\n",
    "    + k*(inner(u_r,v_i) + inner(u_i,v_r))*ds(1)\\\n",
    "    + k*(inner(u_r,v_i) + inner(u_i,v_r))*ds(2)\n",
    "\n",
    "    a_i = \\\n",
    "    + inner(nabla_grad(u_r), nabla_grad(v_i))*dx\\\n",
    "    + inner(nabla_grad(u_i), nabla_grad(v_r))*dx\\\n",
    "    - pow(k,2)*( inner(u_r,v_i) + inner(u_i,v_r))*dx\\\n",
    "    - k*(inner(u_r,v_r) - inner(u_i,v_i))*ds(1)\\\n",
    "    - k*(inner(u_r,v_r) - inner(u_i,v_i))*ds(2)\n",
    "    \n",
    "    L_r = -(C_2*v_r + C_1*v_i)*ds(3)\n",
    "    L_i =  (C_1*v_r - C_2*v_i)*ds(3)\n",
    "    \n",
    "    a = a_r + a_i\n",
    "    L = L_r + L_i\n",
    "\n",
    "    # compute solution\n",
    "    u = Function(V)\n",
    "    solve(a == L, u)\n",
    "\n",
    "    return u"
   ]
  },
  {
   "cell_type": "code",
   "execution_count": null,
   "metadata": {},
   "outputs": [],
   "source": [
    "u_s = FEM(mesh, k, xmin, xmax, ymin, ymax, xcyl_1, ycyl_1, r_1, p, q, tol)\n",
    "(u_s_r, u_s_i) = split(u_s)\n",
    "u_s_m = sqrt(pow(u_s_r,2) + pow(u_s_i,2))"
   ]
  },
  {
   "cell_type": "code",
   "execution_count": null,
   "metadata": {},
   "outputs": [],
   "source": [
    "def plot_results(fsize, u_p_r, u_m, run_no):\n",
    "\n",
    "    plt.subplots(1, 2, figsize=(8,4))\n",
    "\n",
    "    plt.subplot(1, 2, 1)\n",
    "    fig = plot(u_p_r, cmap='jet')\n",
    "\n",
    "    plt.title('Plane wave', pad=15, fontsize=fsize)\n",
    "    plt.xlabel(r'$x$', fontsize=fsize)\n",
    "    plt.ylabel(r'$y$', fontsize=fsize)\n",
    "\n",
    "    colorbar = plt.colorbar(fig, fraction=0.046, pad=0.04);\n",
    "    colorbar.ax.get_yaxis().labelpad = 20\n",
    "    colorbar.ax.set_ylabel('$\\Re \\{ u_\\mathregular{inc} \\}$', rotation=270, fontsize=fsize)\n",
    "\n",
    "    tick_locator = ticker.MaxNLocator(nbins=2)\n",
    "    colorbar.locator = tick_locator\n",
    "    colorbar.update_ticks()\n",
    "\n",
    "    plt.subplot(1, 2, 2)\n",
    "    color_min = 0\n",
    "    color_max = 2.5\n",
    "    fig = plot(u_m, cmap='jet', mode='color', vmin=color_min, vmax=color_max)\n",
    "    plt.title('Total Wave', pad=15, fontsize=fsize)\n",
    "    plt.xlabel(r'$x$', fontsize=fsize)\n",
    "    plt.ylabel(r'$y$', fontsize=fsize)\n",
    "\n",
    "    plt.locator_params(axis='y', nbins=2)\n",
    "    plt.locator_params(axis='x', nbins=2)\n",
    "    \n",
    "    colorbar = plt.colorbar(fig, fraction=0.046, pad=0.04, ticks=[color_min, (color_min+color_max)/2, color_max]);\n",
    "    colorbar.ax.get_yaxis().labelpad = 20\n",
    "    colorbar.ax.set_ylabel('$|u|$', rotation=270, fontsize=fsize)\n",
    "\n",
    "    plt.tight_layout()\n",
    "\n",
    "    plt.savefig(\"Images/Graph_\" + str(run_no) +\".png\", format=\"PNG\", bbox_inches='tight')\n",
    "    \n",
    "    plt.close()"
   ]
  },
  {
   "cell_type": "markdown",
   "metadata": {},
   "source": [
    "---\n",
    "**Release Notes**\n",
    "\n",
    "**v.1.0.0**<br>\n",
    "02.06.2023<br>\n",
    "Draft version.<br>\n",
    "\n",
    "**v.2.0.0**<br>\n",
    "20.11.2023<br>\n",
    "Release version.<br>"
   ]
  }
 ],
 "metadata": {
  "kernelspec": {
   "display_name": "Python 3",
   "language": "python",
   "name": "python3"
  },
  "language_info": {
   "codemirror_mode": {
    "name": "ipython",
    "version": 3
   },
   "file_extension": ".py",
   "mimetype": "text/x-python",
   "name": "python",
   "nbconvert_exporter": "python",
   "pygments_lexer": "ipython3",
   "version": "3.6.9"
  }
 },
 "nbformat": 4,
 "nbformat_minor": 4
}
