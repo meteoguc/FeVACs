{
 "cells": [
  {
   "cell_type": "markdown",
   "metadata": {},
   "source": [
    "<div style=\"text-align: right\"> <b>Release Date:</b> 20.11.2023 </div>\n",
    "\n",
    "<div style=\"text-align: right\"> v.2.0.0 </div>\n",
    "\n",
    "---"
   ]
  },
  {
   "cell_type": "markdown",
   "metadata": {},
   "source": [
    "<h3><center> FeVAcS: FEniCS Visualizing Acoustic Scattering </center></h3>\n",
    "<h3><center> Notebook: Image Generation </center></h3>\n",
    "<h4><center>Mete Öğüç<sup>1</sup>, Ali Fethi Okyar<sup>2</sup>, Tahsin Khajah<sup>3</sup></center></h4>\n",
    "<t4><center> <sup>1</sup>İstanbul Atlas University, Biomedical Eng. Dept. &amp; Metzen Akustik</center></t4>\n",
    "<t4><center> <sup>2</sup>Yeditepe University, Mech. Eng. Dept. </center></t4>\n",
    "<t4><center> <sup>3</sup>The University of Texas at Tyler, Mech. Eng. Dept. </center></t4>\n",
    "\n",
    "---"
   ]
  },
  {
   "cell_type": "markdown",
   "metadata": {},
   "source": [
    "This notebook is the heart of FeVAcS package. Run this notebook to generate individual plots for incident waves with varying phases."
   ]
  },
  {
   "cell_type": "markdown",
   "metadata": {},
   "source": [
    "#### Libraries"
   ]
  },
  {
   "cell_type": "code",
   "execution_count": 1,
   "metadata": {},
   "outputs": [],
   "source": [
    "from fenics import *\n",
    "from mshr import *\n",
    "import numpy as np\n",
    "\n",
    "import matplotlib.pyplot as plt\n",
    "from matplotlib import cm\n",
    "from matplotlib import ticker\n",
    "%matplotlib inline"
   ]
  },
  {
   "cell_type": "markdown",
   "metadata": {},
   "source": [
    "#### Input Parameters"
   ]
  },
  {
   "cell_type": "code",
   "execution_count": 2,
   "metadata": {},
   "outputs": [],
   "source": [
    "# Discretization density\n",
    "n_lambda = 20\n",
    "# Angular wavenumber\n",
    "k = 2*np.pi\n",
    "# Function-space order\n",
    "p = 2\n",
    "# Expression-degree\n",
    "q = 4\n",
    "\n",
    "# Domain parameters\n",
    "xmin = -2\n",
    "xmax = -xmin\n",
    "ymin = -2\n",
    "ymax = -ymin\n",
    "\n",
    "# Circular cylinder dimensions\n",
    "xcyl_1 = 0\n",
    "ycyl_1 = 0\n",
    "r_1 = 1\n",
    "\n",
    "# Number of mesh points to calculate the gridsize\n",
    "N = int(round((n_lambda*(xmax-xcyl_1)*k/(2*np.pi))/xmax,0))\n",
    "\n",
    "# Tolerance for marking the boundaries\n",
    "tol = 0.01\n",
    "\n",
    "# Global fontsize for plots\n",
    "fsize = 14\n",
    "plt.rcParams['xtick.labelsize']=fsize\n",
    "plt.rcParams['ytick.labelsize']=fsize"
   ]
  },
  {
   "cell_type": "markdown",
   "metadata": {},
   "source": [
    "#### Import Functions"
   ]
  },
  {
   "cell_type": "code",
   "execution_count": 3,
   "metadata": {},
   "outputs": [
    {
     "name": "stdout",
     "output_type": "stream",
     "text": [
      "DOF of Functions-space V: 32281\n"
     ]
    }
   ],
   "source": [
    "%run FeVAcS_v200_Solver.ipynb"
   ]
  },
  {
   "cell_type": "markdown",
   "metadata": {},
   "source": [
    "#### Analysis Algorithm"
   ]
  },
  {
   "cell_type": "code",
   "execution_count": 4,
   "metadata": {},
   "outputs": [],
   "source": [
    "run_no=0\n",
    "\n",
    "# distance of the circular cut to the origin of the scattering object\n",
    "n_dw = 50\n",
    "for dw_dummy in range(0, n_dw+1, 1):\n",
    "    dw =2*np.pi*dw_dummy/(n_dw+1)/k\n",
    "    \n",
    "    u_p_temp = Plane_Wave(k, F_dof_x, dw)\n",
    "    u_p_r_temp = u_p_temp.real\n",
    "    u_p_i_temp = u_p_temp.imag\n",
    "\n",
    "    u_p_r = Function(F)\n",
    "    u_p_i = Function(F)\n",
    "\n",
    "    u_p_r.vector().set_local(u_p_r_temp)\n",
    "    u_p_i.vector().set_local(u_p_i_temp)\n",
    "    \n",
    "    u_p_m = sqrt(pow(u_p_r,2) + pow(u_p_i,2))\n",
    "    \n",
    "    u_r = u_p_r + u_s_r\n",
    "    u_i = u_p_i + u_s_i\n",
    "    u_m = sqrt(pow(u_r,2) + pow(u_i,2))\n",
    "    \n",
    "    plot_results(fsize, u_p_r, u_m, run_no)\n",
    "    run_no = run_no+1"
   ]
  },
  {
   "cell_type": "markdown",
   "metadata": {},
   "source": [
    "---\n",
    "**Release Notes**\n",
    "\n",
    "**v.1.0.0**<br>\n",
    "02.06.2023<br>\n",
    "Draft version.<br>\n",
    "\n",
    "**v.2.0.0**<br>\n",
    "20.11.2023<br>\n",
    "Release version.<br>"
   ]
  }
 ],
 "metadata": {
  "kernelspec": {
   "display_name": "Python 3",
   "language": "python",
   "name": "python3"
  },
  "language_info": {
   "codemirror_mode": {
    "name": "ipython",
    "version": 3
   },
   "file_extension": ".py",
   "mimetype": "text/x-python",
   "name": "python",
   "nbconvert_exporter": "python",
   "pygments_lexer": "ipython3",
   "version": "3.6.9"
  }
 },
 "nbformat": 4,
 "nbformat_minor": 4
}
