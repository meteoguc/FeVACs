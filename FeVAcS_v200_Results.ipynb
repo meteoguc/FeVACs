{
 "cells": [
  {
   "cell_type": "markdown",
   "metadata": {},
   "source": [
    "<div style=\"text-align: right\"> <b>Release Date:</b> 20.11.2023 </div>\n",
    "\n",
    "<div style=\"text-align: right\"> v.2.0.0 </div>\n",
    "\n",
    "---"
   ]
  },
  {
   "cell_type": "markdown",
   "metadata": {},
   "source": [
    "<h3><center> FeVAcS: FEniCS Visualizing Acoustic Scattering </center></h3>\n",
    "<h3><center> Notebook: Visual Analysis </center></h3>\n",
    "<h4><center>Mete Öğüç<sup>1</sup>, Ali Fethi Okyar<sup>2</sup>, Tahsin Khajah<sup>3</sup></center></h4>\n",
    "<t4><center> <sup>1</sup>İstanbul Atlas University, Biomedical Eng. Dept. &amp; Metzen Akustik</center></t4>\n",
    "<t4><center> <sup>2</sup>Yeditepe University, Mech. Eng. Dept. </center></t4>\n",
    "<t4><center> <sup>3</sup>The University of Texas at Tyler, Mech. Eng. Dept. </center></t4>\n",
    "\n",
    "---"
   ]
  },
  {
   "cell_type": "markdown",
   "metadata": {},
   "source": [
    "This notebook can be used to visualize an animation of the plots obtained from <font color='blue'>Run.ipynb</font> notebook."
   ]
  },
  {
   "cell_type": "markdown",
   "metadata": {},
   "source": [
    "#### Convert .png to .gif"
   ]
  },
  {
   "cell_type": "code",
   "execution_count": 1,
   "metadata": {},
   "outputs": [],
   "source": [
    "from PIL import Image\n",
    "import glob\n",
    "import re\n",
    "\n",
    "# Create the frames\n",
    "frames = []\n",
    "imgs = glob.glob(\"Images/*.png\")\n",
    "\n",
    "def get_number(file_name):\n",
    "    m = re.findall('Graph_([0-9]*)\\.', file_name)[0]\n",
    "    return int(m)\n",
    "\n",
    "lst_numbers = [get_number(i) for i in imgs]\n",
    "\n",
    "lst_number_files = sorted(list(zip(lst_numbers, imgs)))\n",
    "imgs_sorted = [i[1] for i in lst_number_files]\n",
    "\n",
    "for i in imgs_sorted:\n",
    "    new_frame = Image.open(i)\n",
    "    frames.append(new_frame)\n",
    "\n",
    "# Save into a GIF file that loops forever\n",
    "frames[0].save('Images/scattering.gif', format='GIF',\n",
    "               append_images=frames[1:],\n",
    "               save_all=True,\n",
    "               duration=100, loop=0)"
   ]
  },
  {
   "cell_type": "markdown",
   "metadata": {},
   "source": [
    "#### Animation Display"
   ]
  },
  {
   "cell_type": "markdown",
   "metadata": {},
   "source": [
    "![Alt Text](./Images/scattering.gif)"
   ]
  },
  {
   "cell_type": "markdown",
   "metadata": {},
   "source": [
    "---\n",
    "**Release Notes**\n",
    "\n",
    "**v.1.0.0**<br>\n",
    "02.06.2023<br>\n",
    "Draft version.<br>\n",
    "\n",
    "**v.2.0.0**<br>\n",
    "20.11.2023<br>\n",
    "Release version.<br>"
   ]
  }
 ],
 "metadata": {
  "kernelspec": {
   "display_name": "Python 3",
   "language": "python",
   "name": "python3"
  },
  "language_info": {
   "codemirror_mode": {
    "name": "ipython",
    "version": 3
   },
   "file_extension": ".py",
   "mimetype": "text/x-python",
   "name": "python",
   "nbconvert_exporter": "python",
   "pygments_lexer": "ipython3",
   "version": "3.6.9"
  }
 },
 "nbformat": 4,
 "nbformat_minor": 2
}
